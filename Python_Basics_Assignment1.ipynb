{
  "nbformat": 4,
  "nbformat_minor": 0,
  "metadata": {
    "colab": {
      "provenance": []
    },
    "kernelspec": {
      "name": "python3",
      "display_name": "Python 3"
    },
    "language_info": {
      "name": "python"
    }
  },
  "cells": [
    {
      "cell_type": "markdown",
      "source": [
        "\n",
        "**Theory Questions**\n"
      ],
      "metadata": {
        "id": "q4Ma6jyuSngJ"
      }
    },
    {
      "cell_type": "markdown",
      "source": [
        "Q1. What is Python, and why is it popular?\n"
      ],
      "metadata": {
        "id": "pw-VkolcTYEO"
      }
    },
    {
      "cell_type": "markdown",
      "source": [
        "Ans. Python is an interpreted, high-level programming language that is well-known for its ease of use and adaptability. Its broad libraries, substantial community support, simple syntax, and versatility across a range of domains, including data science, artificial intelligence, and web development, have made it well-liked."
      ],
      "metadata": {
        "id": "NxpVWMyrUkRd"
      }
    },
    {
      "cell_type": "markdown",
      "source": [
        "Q2. What is an interpreter in Python?\n"
      ],
      "metadata": {
        "id": "VeGzAIuBUmD4"
      }
    },
    {
      "cell_type": "markdown",
      "source": [
        "Ans. Real-time code execution and debugging are made possible by an interpreter that runs Python code line by line and converts it into machine code."
      ],
      "metadata": {
        "id": "oRY1VDtyUvd-"
      }
    },
    {
      "cell_type": "markdown",
      "source": [
        "Q3. What are pre-defined keywords in Python?"
      ],
      "metadata": {
        "id": "aAQve6bbU9fL"
      }
    },
    {
      "cell_type": "markdown",
      "source": [
        "Ans. These Python reserved terms, like if, else, and while, have specific meanings and are not allowed to be used as variable names."
      ],
      "metadata": {
        "id": "xfwVfEvzVChT"
      }
    },
    {
      "cell_type": "markdown",
      "source": [
        "Q4. Can keywords be used as variable names?\n"
      ],
      "metadata": {
        "id": "oMpCEJHjVPv7"
      }
    },
    {
      "cell_type": "markdown",
      "source": [
        "Ans. It is not possible to utilize keywords as variable names."
      ],
      "metadata": {
        "id": "KUbZEOpXVWlk"
      }
    },
    {
      "cell_type": "markdown",
      "source": [
        "Q5. What is mutability in Python?"
      ],
      "metadata": {
        "id": "lJYPpWlwVjB5"
      }
    },
    {
      "cell_type": "markdown",
      "source": [
        "Ans. The capacity to change an item after it has been created is known as mutability. Tuples cannot be changed, whereas lists can."
      ],
      "metadata": {
        "id": "aVJi_hjpVp4w"
      }
    },
    {
      "cell_type": "markdown",
      "source": [
        "Q6. Why are lists mutable, but tuples are immutable?"
      ],
      "metadata": {
        "id": "Anjuuq8rV2RK"
      }
    },
    {
      "cell_type": "markdown",
      "source": [
        "Ans. Changes like adding, deleting, or altering elements are possible with lists. To maintain data integrity and improve efficiency, tuples are intentionally immutable."
      ],
      "metadata": {
        "id": "7w8a-KYoV_xE"
      }
    },
    {
      "cell_type": "markdown",
      "source": [
        "Q7. What is the difference between “==” and “is” operators in Python?"
      ],
      "metadata": {
        "id": "zICxDounWLRl"
      }
    },
    {
      "cell_type": "markdown",
      "source": [
        "Ans. == checks for value equality, while is checks if two references point to the same object."
      ],
      "metadata": {
        "id": "Zkd6MKQWWRAy"
      }
    },
    {
      "cell_type": "markdown",
      "source": [
        "Q8. What are logical operators in Python?"
      ],
      "metadata": {
        "id": "v56KIeiIWi6g"
      }
    },
    {
      "cell_type": "markdown",
      "source": [
        "Ans. Operators to combine or negate conditions:\n",
        "*   And: Both conditions must be true.\n",
        "*   Or: At least one condition must be true.\n",
        "*   Not: Negates a condition.\n",
        "\n",
        "\n",
        "\n",
        "\n",
        "\n"
      ],
      "metadata": {
        "id": "phU9MBT_WqKQ"
      }
    },
    {
      "cell_type": "markdown",
      "source": [
        "Q9. What is type casting in Python?"
      ],
      "metadata": {
        "id": "HecvpQONXx6K"
      }
    },
    {
      "cell_type": "markdown",
      "source": [
        "Ans. Type casting converts one data type to another (e.g., string to integer).\n",
        "\n",
        "\n",
        "```\n",
        "number = \"5\"\n",
        "number = int(number)\n",
        "\n",
        "```\n",
        "\n",
        "\n",
        "\n"
      ],
      "metadata": {
        "id": "jdq_AQbYX5kl"
      }
    },
    {
      "cell_type": "markdown",
      "source": [
        "Q10. What is the difference between implicit and explicit type casting?"
      ],
      "metadata": {
        "id": "0paj0M5wYGGJ"
      }
    },
    {
      "cell_type": "markdown",
      "source": [
        "Ans.\n",
        "*   Implicit: Automatic conversion (e.g., int to float).\n",
        "*   Explicit: Manual conversion using functions like int(), str().\n",
        "\n"
      ],
      "metadata": {
        "id": "Kxwc7aO1YLOU"
      }
    },
    {
      "cell_type": "markdown",
      "source": [
        "Q11. What is the purpose of conditional statements in Python?"
      ],
      "metadata": {
        "id": "KHNOCunFUWiW"
      }
    },
    {
      "cell_type": "markdown",
      "source": [
        "Ans. To execute specific blocks of code based on conditions:\n",
        "\n",
        "\n",
        "```\n",
        "if age > 18:\n",
        "    print(\"Adult\")\n",
        "else:\n",
        "    print(\"Minor\")\n",
        "\n",
        "```\n",
        "\n"
      ],
      "metadata": {
        "id": "Y71qJdRAY6o0"
      }
    },
    {
      "cell_type": "markdown",
      "source": [
        "Q12.  How does the elif statement work?\n"
      ],
      "metadata": {
        "id": "C7cviYkLZHKM"
      }
    },
    {
      "cell_type": "markdown",
      "source": [
        "Ans. Adds multiple conditions:\n",
        "\n",
        "\n",
        "```\n",
        "age = 20\n",
        "if age < 13:\n",
        "    print(\"Child\")\n",
        "elif age < 18:\n",
        "    print(\"Teenager\")\n",
        "else:\n",
        "    print(\"Adult\")\n",
        "\n",
        "```\n",
        "\n",
        "\n"
      ],
      "metadata": {
        "id": "u8yhc5TEZRe0"
      }
    },
    {
      "cell_type": "markdown",
      "source": [
        "Q13. What is the difference between for and while loops?"
      ],
      "metadata": {
        "id": "SCOqjBOtZiE8"
      }
    },
    {
      "cell_type": "markdown",
      "source": [
        "Ans.\n",
        "*   for: Iterates over sequences.\n",
        "*   while: Executes as long as a condition is true.\n",
        "\n"
      ],
      "metadata": {
        "id": "c0IVAO3mZpBO"
      }
    },
    {
      "cell_type": "markdown",
      "source": [
        "Q14.  Describe a scenario where a while loop is more suitable than a for loop?"
      ],
      "metadata": {
        "id": "nsXtBx-GZ6oD"
      }
    },
    {
      "cell_type": "markdown",
      "source": [
        "Ans. When the number of iterations is unknown:\n",
        "\n",
        "```\n",
        "password = \"\"\n",
        "while password != \"admin\":\n",
        "    password = input(\"Enter password: \")\n",
        "\n",
        "```\n",
        "\n"
      ],
      "metadata": {
        "id": "GhcOGdQzaBTA"
      }
    },
    {
      "cell_type": "markdown",
      "source": [
        "**PRACTICAL QUESTIONS**"
      ],
      "metadata": {
        "id": "2cqqW6KtaN9a"
      }
    },
    {
      "cell_type": "markdown",
      "source": [
        "Q1. Write a Python program to print \"Hello, World!\"?"
      ],
      "metadata": {
        "id": "vsVqJGVoaajG"
      }
    },
    {
      "cell_type": "code",
      "execution_count": 1,
      "metadata": {
        "id": "7XBseC1hPXEF",
        "colab": {
          "base_uri": "https://localhost:8080/"
        },
        "outputId": "fd77b739-9650-4049-e1c3-a40f908a65fb"
      },
      "outputs": [
        {
          "output_type": "stream",
          "name": "stdout",
          "text": [
            "Hello, World!\n"
          ]
        }
      ],
      "source": [
        "print(\"Hello, World!\")"
      ]
    },
    {
      "cell_type": "markdown",
      "source": [
        "Q2. Write a Python program that displays your name and age?"
      ],
      "metadata": {
        "id": "fa4IaOFTawCB"
      }
    },
    {
      "cell_type": "code",
      "source": [
        "name = \"Aditya Jakhar\"\n",
        "age = 21\n",
        "print(f\"My name is {name}, and I am {age} years old.\")\n"
      ],
      "metadata": {
        "colab": {
          "base_uri": "https://localhost:8080/"
        },
        "id": "UdJtTYYya3bb",
        "outputId": "0f1e6afa-33e3-4be1-eedb-3bc0a503d813"
      },
      "execution_count": 4,
      "outputs": [
        {
          "output_type": "stream",
          "name": "stdout",
          "text": [
            "My name is Aditya Jakhar, and I am 21 years old.\n"
          ]
        }
      ]
    },
    {
      "cell_type": "markdown",
      "source": [
        "Q3. Write code to print all the pre-defined keywords in Python using the keyword library?"
      ],
      "metadata": {
        "id": "I43l7pW5bCkL"
      }
    },
    {
      "cell_type": "code",
      "source": [
        "import keyword\n",
        "print(keyword.kwlist)\n"
      ],
      "metadata": {
        "colab": {
          "base_uri": "https://localhost:8080/"
        },
        "id": "phdZKYdTbLnK",
        "outputId": "db292dd1-d119-4592-97ba-8015390ab59e"
      },
      "execution_count": 5,
      "outputs": [
        {
          "output_type": "stream",
          "name": "stdout",
          "text": [
            "['False', 'None', 'True', 'and', 'as', 'assert', 'async', 'await', 'break', 'class', 'continue', 'def', 'del', 'elif', 'else', 'except', 'finally', 'for', 'from', 'global', 'if', 'import', 'in', 'is', 'lambda', 'nonlocal', 'not', 'or', 'pass', 'raise', 'return', 'try', 'while', 'with', 'yield']\n"
          ]
        }
      ]
    },
    {
      "cell_type": "markdown",
      "source": [
        "Q4. Write a program that checks if a given word is a Python keyword?"
      ],
      "metadata": {
        "id": "-UD9veL0bPnZ"
      }
    },
    {
      "cell_type": "code",
      "source": [
        "import keyword\n",
        "print(keyword.iskeyword(\"for\"))\n"
      ],
      "metadata": {
        "colab": {
          "base_uri": "https://localhost:8080/"
        },
        "id": "sn_KBU8LbVaz",
        "outputId": "cb2af33b-aee8-4999-cd9e-1efa5f948706"
      },
      "execution_count": 6,
      "outputs": [
        {
          "output_type": "stream",
          "name": "stdout",
          "text": [
            "True\n"
          ]
        }
      ]
    },
    {
      "cell_type": "markdown",
      "source": [
        "Q5. Create a list and tuple in Python, and demonstrate how attempting to change an element works differently\n",
        "for each?"
      ],
      "metadata": {
        "id": "omIgvNHhbdZz"
      }
    },
    {
      "cell_type": "code",
      "source": [
        "my_list = [1, 2, 3]\n",
        "my_tuple = (1, 2, 3)\n",
        "my_list[0] = 100  # Works\n",
        "# my_tuple[0] = 100  # Error: Tuples are immutable\n",
        "print(my_list)\n",
        "print(my_tuple)\n"
      ],
      "metadata": {
        "colab": {
          "base_uri": "https://localhost:8080/"
        },
        "id": "Un4M716vbnHr",
        "outputId": "edf39ec0-2660-4003-9ef4-c8f81f55ee9d"
      },
      "execution_count": 9,
      "outputs": [
        {
          "output_type": "stream",
          "name": "stdout",
          "text": [
            "[100, 2, 3]\n",
            "(1, 2, 3)\n"
          ]
        }
      ]
    },
    {
      "cell_type": "markdown",
      "source": [
        "Q6. Write a function to demonstrate the behavior of mutable and immutable arguments?"
      ],
      "metadata": {
        "id": "y6wuOGiGbvWl"
      }
    },
    {
      "cell_type": "code",
      "source": [
        "def modify(arg):\n",
        "    if isinstance(arg, list):\n",
        "        arg.append(10)\n",
        "    elif isinstance(arg, int):\n",
        "        arg += 10\n",
        "    print(arg)\n",
        "\n",
        "modify([1, 2, 3])  # Mutable\n",
        "modify(10)         # Immutable"
      ],
      "metadata": {
        "colab": {
          "base_uri": "https://localhost:8080/"
        },
        "id": "XEud2qocb12t",
        "outputId": "4cda8e82-be2e-4e18-b324-7b18e561f9f5"
      },
      "execution_count": 10,
      "outputs": [
        {
          "output_type": "stream",
          "name": "stdout",
          "text": [
            "[1, 2, 3, 10]\n",
            "20\n"
          ]
        }
      ]
    },
    {
      "cell_type": "markdown",
      "source": [
        "Q7. Write a function to demonstrate the behavior of mutable and immutable arguments?"
      ],
      "metadata": {
        "id": "8TejjitOcwJK"
      }
    },
    {
      "cell_type": "code",
      "source": [
        "def modify(arg):\n",
        "    if isinstance(arg, list):\n",
        "        arg.append(10)\n",
        "    elif isinstance(arg, int):\n",
        "        arg += 10\n",
        "    print(arg)\n",
        "\n",
        "modify([1, 2, 3])  # Mutable\n",
        "modify(10)         # Immutable"
      ],
      "metadata": {
        "colab": {
          "base_uri": "https://localhost:8080/"
        },
        "id": "Map_l-1DdKQV",
        "outputId": "7fbdcf85-81a0-4367-ff7e-04e9f43fcb2a"
      },
      "execution_count": 12,
      "outputs": [
        {
          "output_type": "stream",
          "name": "stdout",
          "text": [
            "[1, 2, 3, 10]\n",
            "20\n"
          ]
        }
      ]
    },
    {
      "cell_type": "markdown",
      "source": [
        "Q8. Write a program to demonstrate the use of logical operators?"
      ],
      "metadata": {
        "id": "nNh8UNTKdPFu"
      }
    },
    {
      "cell_type": "code",
      "source": [
        "a, b, c = True, False, True\n",
        "print(a and b)  # False\n",
        "print(a or b)   # True\n",
        "print(not c)    # False"
      ],
      "metadata": {
        "colab": {
          "base_uri": "https://localhost:8080/"
        },
        "id": "tMVtx7zfc27R",
        "outputId": "68b46ddb-8be0-4620-f60f-afbe33c96eb4"
      },
      "execution_count": 11,
      "outputs": [
        {
          "output_type": "stream",
          "name": "stdout",
          "text": [
            "False\n",
            "True\n",
            "False\n"
          ]
        }
      ]
    },
    {
      "cell_type": "markdown",
      "source": [
        "Q9. Write a Python program to convert user input from string to integer, float, and boolean types?"
      ],
      "metadata": {
        "id": "kG7ox9Tuc8bY"
      }
    },
    {
      "cell_type": "code",
      "source": [
        "user_input = input(\"Enter a value: \")\n",
        "print(int(user_input))  # Integer\n",
        "print(float(user_input))  # Float\n",
        "print(bool(user_input))  # Boolean"
      ],
      "metadata": {
        "colab": {
          "base_uri": "https://localhost:8080/"
        },
        "id": "uu0TOdX2dddx",
        "outputId": "cf948da6-597f-475a-f3ba-740e4fb0f88f"
      },
      "execution_count": 13,
      "outputs": [
        {
          "output_type": "stream",
          "name": "stdout",
          "text": [
            "Enter a value: 0\n",
            "0\n",
            "0.0\n",
            "True\n"
          ]
        }
      ]
    },
    {
      "cell_type": "markdown",
      "source": [
        "Q10. Write code to demonstrate type casting with list elements?"
      ],
      "metadata": {
        "id": "KcCMgXbgdmkl"
      }
    },
    {
      "cell_type": "code",
      "source": [
        "str_list = [\"1\", \"2\", \"3\"]\n",
        "int_list = [int(x) for x in str_list]\n",
        "print(int_list)"
      ],
      "metadata": {
        "colab": {
          "base_uri": "https://localhost:8080/"
        },
        "id": "cMlMPyrrdsgq",
        "outputId": "cf863cb8-6171-457c-d2cb-57a353b0ed05"
      },
      "execution_count": 14,
      "outputs": [
        {
          "output_type": "stream",
          "name": "stdout",
          "text": [
            "[1, 2, 3]\n"
          ]
        }
      ]
    },
    {
      "cell_type": "markdown",
      "source": [
        "Q11. Write a program that checks if a number is positive, negative, or zero?"
      ],
      "metadata": {
        "id": "oGIJNQP4d3NC"
      }
    },
    {
      "cell_type": "code",
      "source": [
        "number = int(input(\"Enter a number: \"))\n",
        "if number > 0:\n",
        "    print(\"Positive\")\n",
        "elif number < 0:\n",
        "    print(\"Negative\")\n",
        "else:\n",
        "    print(\"Zero\")"
      ],
      "metadata": {
        "colab": {
          "base_uri": "https://localhost:8080/"
        },
        "id": "WcPUy7bFd773",
        "outputId": "c9702fea-aba1-458e-b720-179d1d750ac2"
      },
      "execution_count": 15,
      "outputs": [
        {
          "output_type": "stream",
          "name": "stdout",
          "text": [
            "Enter a number: 1\n",
            "Positive\n"
          ]
        }
      ]
    },
    {
      "cell_type": "markdown",
      "source": [
        "Q12. Write a for loop to print numbers from 1 to 10?\n",
        "\n",
        "---\n",
        "\n"
      ],
      "metadata": {
        "id": "mxDdB1YAeCJw"
      }
    },
    {
      "cell_type": "code",
      "source": [
        "for i in range(1, 11):\n",
        "    print(i)"
      ],
      "metadata": {
        "colab": {
          "base_uri": "https://localhost:8080/"
        },
        "id": "Pvt2VllUeIaj",
        "outputId": "62548630-9db6-47e5-d741-47035a76a18c"
      },
      "execution_count": 16,
      "outputs": [
        {
          "output_type": "stream",
          "name": "stdout",
          "text": [
            "1\n",
            "2\n",
            "3\n",
            "4\n",
            "5\n",
            "6\n",
            "7\n",
            "8\n",
            "9\n",
            "10\n"
          ]
        }
      ]
    },
    {
      "cell_type": "markdown",
      "source": [
        "Q13.  Write a Python program to find the sum of all even numbers between 1 and 50?"
      ],
      "metadata": {
        "id": "3JZUGUM4eT8x"
      }
    },
    {
      "cell_type": "code",
      "source": [
        "even_sum = sum(i for i in range(1, 51) if i % 2 == 0)\n",
        "print(even_sum)"
      ],
      "metadata": {
        "colab": {
          "base_uri": "https://localhost:8080/"
        },
        "id": "IlCqc6rxeZE2",
        "outputId": "2c6926be-105f-40eb-8ead-be012a331fdd"
      },
      "execution_count": 17,
      "outputs": [
        {
          "output_type": "stream",
          "name": "stdout",
          "text": [
            "650\n"
          ]
        }
      ]
    },
    {
      "cell_type": "markdown",
      "source": [
        "Q14. Write a program to reverse a string using a while loop?"
      ],
      "metadata": {
        "id": "CXP4yD2nefC5"
      }
    },
    {
      "cell_type": "code",
      "source": [
        "s = \"Python\"\n",
        "reversed_s = \"\"\n",
        "i = len(s) - 1\n",
        "while i >= 0:\n",
        "    reversed_s += s[i]\n",
        "    i -= 1\n",
        "print(reversed_s)"
      ],
      "metadata": {
        "colab": {
          "base_uri": "https://localhost:8080/"
        },
        "id": "6Mrj5mYrekrB",
        "outputId": "d01256dc-6ef9-4dab-b3bb-e746dd35977e"
      },
      "execution_count": 18,
      "outputs": [
        {
          "output_type": "stream",
          "name": "stdout",
          "text": [
            "nohtyP\n"
          ]
        }
      ]
    },
    {
      "cell_type": "markdown",
      "source": [
        "Q15. Write a Python program to calculate the factorial of a number provided by the user using a while loop?"
      ],
      "metadata": {
        "id": "f_OYbaIkeuIC"
      }
    },
    {
      "cell_type": "code",
      "source": [
        "num = int(input(\"Enter a number: \"))\n",
        "factorial = 1\n",
        "while num > 0:\n",
        "    factorial *= num\n",
        "    num -= 1\n",
        "print(factorial)"
      ],
      "metadata": {
        "colab": {
          "base_uri": "https://localhost:8080/"
        },
        "id": "rarJIA11ez07",
        "outputId": "13f249f0-a655-4e3a-e455-ae77eb2ce7f0"
      },
      "execution_count": 19,
      "outputs": [
        {
          "output_type": "stream",
          "name": "stdout",
          "text": [
            "Enter a number: 2\n",
            "2\n"
          ]
        }
      ]
    }
  ]
}